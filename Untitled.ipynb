{
 "cells": [
  {
   "cell_type": "code",
   "execution_count": 11,
   "id": "modern-champagne",
   "metadata": {},
   "outputs": [
    {
     "name": "stdout",
     "output_type": "stream",
     "text": [
      "[49.422518, 8.706729]\n",
      "{'type': 'FeatureCollection', 'bbox': [8.690397, 49.414505, 8.723728, 49.434376], 'features': [{'type': 'Feature', 'properties': {'group_index': 0, 'value': 600.0, 'center': [8.706795740462528, 49.422478270918994]}, 'geometry': {'coordinates': [[[8.698365, 49.42426], [8.69841, 49.424227], [8.699343, 49.418324], [8.699111, 49.418003], [8.699141, 49.417644], [8.701368, 49.417135], [8.701598, 49.417097], [8.701856, 49.417056], [8.702009, 49.417061], [8.702315, 49.417135], [8.705032, 49.419765], [8.709959, 49.420422], [8.710238, 49.42065], [8.712259, 49.425479], [8.714189, 49.427094], [8.714159, 49.427452], [8.71403, 49.428095], [8.713866, 49.428415], [8.712966, 49.428528], [8.70723, 49.427629], [8.703619, 49.427505], [8.703222, 49.427369], [8.700306, 49.425668], [8.698577, 49.424551], [8.698365, 49.42426]]], 'type': 'Polygon'}}, {'type': 'Feature', 'properties': {'group_index': 0, 'value': 1200.0, 'center': [8.706795740462528, 49.422478270918994]}, 'geometry': {'coordinates': [[[8.690397, 49.417243], [8.693422, 49.414525], [8.694353, 49.414505], [8.699656, 49.414751], [8.699731, 49.414757], [8.699808, 49.414774], [8.701015, 49.415118], [8.702306, 49.415673], [8.70282, 49.41589], [8.705301, 49.417494], [8.708929, 49.416294], [8.714552, 49.417022], [8.718728, 49.420963], [8.719984, 49.421701], [8.723728, 49.425776], [8.723082, 49.431527], [8.723515, 49.432641], [8.723342, 49.432957], [8.71877, 49.434376], [8.718545, 49.43411], [8.718434, 49.433945], [8.718322, 49.433728], [8.712825, 49.431343], [8.712691, 49.431366], [8.712455, 49.431382], [8.712251, 49.431368], [8.711988, 49.431339], [8.709757, 49.430837], [8.704061, 49.430471], [8.703621, 49.430614], [8.701008, 49.430755], [8.698719, 49.430524], [8.693615, 49.429513], [8.693453, 49.429192], [8.693415, 49.428448], [8.693504, 49.428099], [8.691323, 49.42276], [8.690397, 49.417243]]], 'type': 'Polygon'}}], 'metadata': {'service': 'isochrones', 'timestamp': 1614091780194, 'query': {'locations': [[8.706729, 49.422518]], 'range': [600.0, 1200.0], 'range_type': 'time', 'attributes': ['total_pop']}, 'engine': {'version': '6.3.6', 'build_date': '2021-02-23T14:10:12Z', 'graph_date': '2021-02-13T12:42:03Z'}}}\n"
     ]
    },
    {
     "data": {
      "image/svg+xml": [
       "<svg xmlns=\"http://www.w3.org/2000/svg\" xmlns:xlink=\"http://www.w3.org/1999/xlink\" width=\"100.0\" height=\"100.0\" viewBox=\"8.69773204 49.416423040000005 0.01708992000000009 0.012737919999992187\" preserveAspectRatio=\"xMinYMin meet\"><g transform=\"matrix(1,0,0,-1,0,98.845584)\"><path fill-rule=\"evenodd\" fill=\"#66cc99\" stroke=\"#555555\" stroke-width=\"0.00034179840000000185\" opacity=\"0.6\" d=\"M 8.698365,49.42426 L 8.69841,49.424227 L 8.699343,49.418324 L 8.699111,49.418003 L 8.699141,49.417644 L 8.701368,49.417135 L 8.701598,49.417097 L 8.701856,49.417056 L 8.702009,49.417061 L 8.702315,49.417135 L 8.705032,49.419765 L 8.709959,49.420422 L 8.710238,49.42065 L 8.712259,49.425479 L 8.714189,49.427094 L 8.714159,49.427452 L 8.71403,49.428095 L 8.713866,49.428415 L 8.712966,49.428528 L 8.70723,49.427629 L 8.703619,49.427505 L 8.703222,49.427369 L 8.700306,49.425668 L 8.698577,49.424551 L 8.698365,49.42426 z\" /></g></svg>"
      ],
      "text/plain": [
       "<shapely.geometry.polygon.Polygon at 0x7f78784ee910>"
      ]
     },
     "execution_count": 11,
     "metadata": {},
     "output_type": "execute_result"
    }
   ],
   "source": [
    "import openrouteservice as ors\n",
    "import shapely\n",
    "from shapely.geometry import shape\n",
    "\n",
    "\n",
    "# Some coordinate in Heidelberg\n",
    "coordinate = [[8.706729, 49.422518]]\n",
    "print(list(reversed(coordinate[0])))\n",
    "\n",
    "client = ors.Client(base_url = 'http://localhost:8082/ors')\n",
    "iso = client.isochrones(\n",
    "    locations=coordinate,\n",
    "    profile='foot-walking',\n",
    "    range=[600, 1200],\n",
    "    validate=False,\n",
    "    attributes=['total_pop']\n",
    ")\n",
    "\n",
    "print(iso)\n",
    "shape(iso['features'][0]['geometry'])"
   ]
  },
  {
   "cell_type": "code",
   "execution_count": null,
   "id": "short-protest",
   "metadata": {},
   "outputs": [],
   "source": []
  }
 ],
 "metadata": {
  "kernelspec": {
   "display_name": "Python 3",
   "language": "python",
   "name": "python3"
  },
  "language_info": {
   "codemirror_mode": {
    "name": "ipython",
    "version": 3
   },
   "file_extension": ".py",
   "mimetype": "text/x-python",
   "name": "python",
   "nbconvert_exporter": "python",
   "pygments_lexer": "ipython3",
   "version": "3.9.1+"
  }
 },
 "nbformat": 4,
 "nbformat_minor": 5
}
