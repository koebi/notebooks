{
 "cells": [
  {
   "cell_type": "code",
   "execution_count": 1,
   "metadata": {
    "scrolled": true
   },
   "outputs": [
    {
     "name": "stdout",
     "output_type": "stream",
     "text": [
      "Now rescaling\n",
      "betweenness before rescaling: {0: 5.0, 1: 0.0, 2: 6.0, 3: 0.0, 8: 0.0, 4: 2.0, 5: 2.0, 6: 0.0, 7: 0.0}\n",
      "Rescaling. normalized: True directed False k None endpoints False n 9\n",
      "{0: 0.08928571428571427, 1: 0.0, 2: 0.10714285714285714, 3: 0.0, 8: 0.0, 4: 0.03571428571428571, 5: 0.03571428571428571, 6: 0.0, 7: 0.0}\n",
      "Now rescaling\n",
      "betweenness before rescaling: {0: 5.0, 1: 0.0, 2: 6.0, 3: 0.0, 8: 0.0, 4: 2.0, 5: 2.0, 6: 0.0, 7: 0.0}\n",
      "Rescaling. normalized: False directed False k None endpoints False n 9\n",
      "{0: 2.5, 1: 0.0, 2: 3.0, 3: 0.0, 8: 0.0, 4: 1.0, 5: 1.0, 6: 0.0, 7: 0.0}\n",
      "{0: 2.4999999999999996, 1: 0.0, 2: 3.0, 3: 0.0, 8: 0.0, 4: 1.0, 5: 1.0, 6: 0.0, 7: 0.0}\n"
     ]
    }
   ],
   "source": [
    "import networkx as nx\n",
    "\n",
    "g = nx.Graph()\n",
    "g.add_edge(0, 1, weight=1)\n",
    "g.add_edge(0, 2, weight=1)\n",
    "g.add_edge(0, 3, weight=5)\n",
    "g.add_edge(0, 8, weight=1)\n",
    "g.add_edge(1, 2, weight=1)\n",
    "g.add_edge(1, 8, weight=2)\n",
    "g.add_edge(2, 3, weight=2)\n",
    "g.add_edge(4, 5, weight=1)\n",
    "g.add_edge(4, 6, weight=1)\n",
    "g.add_edge(5, 7, weight=1)\n",
    "g.add_edge(6, 7, weight=2)\n",
    "\n",
    "betweenness = nx.algorithms.centrality.betweenness.betweenness_centrality(g, weight=\"weight\")\n",
    "print(betweenness)\n",
    "betweenness2 = nx.algorithms.centrality.betweenness.betweenness_centrality(g, normalized=False, weight=\"weight\")\n",
    "print(betweenness2)\n",
    "\n",
    "#de-normalize:\n",
    "n = len(g.nodes)\n",
    "for k in betweenness:\n",
    "    betweenness[k] *= (n-1)*(n-2)*0.5\n",
    "\n",
    "print(betweenness)"
   ]
  },
  {
   "cell_type": "code",
   "execution_count": null,
   "metadata": {},
   "outputs": [],
   "source": []
  },
  {
   "cell_type": "code",
   "execution_count": null,
   "metadata": {},
   "outputs": [],
   "source": []
  }
 ],
 "metadata": {
  "kernelspec": {
   "display_name": "Python 3",
   "language": "python",
   "name": "python3"
  },
  "language_info": {
   "codemirror_mode": {
    "name": "ipython",
    "version": 3
   },
   "file_extension": ".py",
   "mimetype": "text/x-python",
   "name": "python",
   "nbconvert_exporter": "python",
   "pygments_lexer": "ipython3",
   "version": "3.8.6"
  }
 },
 "nbformat": 4,
 "nbformat_minor": 4
}
