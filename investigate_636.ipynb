{
 "cells": [
  {
   "cell_type": "code",
   "execution_count": 18,
   "id": "bulgarian-storage",
   "metadata": {},
   "outputs": [
    {
     "data": {
      "text/html": [
       "<div id=\"dd66d8c5-ad4d-47c0-b413-f3a69fbccf70\" style=\"height: auto; width:100%;\"></div>"
      ],
      "text/plain": [
       "<IPython.core.display.HTML object>"
      ]
     },
     "metadata": {},
     "output_type": "display_data"
    },
    {
     "data": {
      "text/html": [
       "<script>\n",
       "        require([\"https://rawgit.com/caldwell/renderjson/master/renderjson.js\"], function() {\n",
       "          renderjson.set_show_to_level(1)\n",
       "          document.getElementById('dd66d8c5-ad4d-47c0-b413-f3a69fbccf70').appendChild(renderjson({\"bbox\": [8.668448, 49.409295, 8.694056, 49.444583], \"metadata\": {\"attribution\": \"openrouteservice.org, OpenStreetMap contributors\", \"service\": \"routing\", \"timestamp\": 1616072148494, \"query\": {\"coordinates\": [[8.694724, 49.409358], [8.694724, 49.409358], [8.669243, 49.444468]], \"profile\": \"foot-walking\", \"format\": \"json\"}, \"engine\": {\"version\": \"6.3.6\", \"build_date\": \"2021-03-18T12:55:20Z\", \"graph_date\": \"2021-03-16T15:43:58Z\"}}, \"routes\": [{\"summary\": {\"distance\": 4728.6, \"duration\": 3404.5}, \"segments\": [{\"distance\": 0.0, \"duration\": 0.0, \"steps\": [{\"distance\": 0.0, \"duration\": 0.0, \"type\": 11, \"instruction\": \"Head east\", \"name\": \"-\", \"way_points\": [0, 1]}]}, {\"distance\": 4728.6, \"duration\": 3404.5, \"steps\": [{\"distance\": 124.5, \"duration\": 89.6, \"type\": 11, \"instruction\": \"Head north on Sankt-Anna-Gasse\", \"name\": \"Sankt-Anna-Gasse\", \"way_points\": [1, 10]}, {\"distance\": 149.9, \"duration\": 107.9, \"type\": 1, \"instruction\": \"Turn right onto Sofienstra\\u00dfe\", \"name\": \"Sofienstra\\u00dfe\", \"way_points\": [10, 15]}, {\"distance\": 226.2, \"duration\": 162.8, \"type\": 0, \"instruction\": \"Turn left\", \"name\": \"-\", \"way_points\": [15, 26]}, {\"distance\": 29.0, \"duration\": 20.9, \"type\": 0, \"instruction\": \"Turn left\", \"name\": \"-\", \"way_points\": [26, 27]}, {\"distance\": 17.6, \"duration\": 12.7, \"type\": 1, \"instruction\": \"Turn right\", \"name\": \"-\", \"way_points\": [27, 29]}, {\"distance\": 7.3, \"duration\": 5.2, \"type\": 1, \"instruction\": \"Turn right\", \"name\": \"-\", \"way_points\": [29, 30]}, {\"distance\": 13.2, \"duration\": 9.5, \"type\": 0, \"instruction\": \"Turn left onto Uferstra\\u00dfe\", \"name\": \"Uferstra\\u00dfe\", \"way_points\": [30, 33]}, {\"distance\": 204.6, \"duration\": 147.3, \"type\": 1, \"instruction\": \"Turn right onto Schulzengasse\", \"name\": \"Schulzengasse\", \"way_points\": [33, 39]}, {\"distance\": 36.9, \"duration\": 26.6, \"type\": 0, \"instruction\": \"Turn left onto Rahmengasse\", \"name\": \"Rahmengasse\", \"way_points\": [39, 40]}, {\"distance\": 79.5, \"duration\": 57.3, \"type\": 1, \"instruction\": \"Turn right onto Lutherstra\\u00dfe\", \"name\": \"Lutherstra\\u00dfe\", \"way_points\": [40, 41]}, {\"distance\": 180.8, \"duration\": 130.2, \"type\": 0, \"instruction\": \"Turn left onto Schr\\u00f6derstra\\u00dfe\", \"name\": \"Schr\\u00f6derstra\\u00dfe\", \"way_points\": [41, 43]}, {\"distance\": 482.6, \"duration\": 347.5, \"type\": 1, \"instruction\": \"Turn right onto Werderstra\\u00dfe\", \"name\": \"Werderstra\\u00dfe\", \"way_points\": [43, 49]}, {\"distance\": 9.2, \"duration\": 6.7, \"type\": 0, \"instruction\": \"Turn left\", \"name\": \"-\", \"way_points\": [49, 50]}, {\"distance\": 35.3, \"duration\": 25.4, \"type\": 1, \"instruction\": \"Turn right\", \"name\": \"-\", \"way_points\": [50, 51]}, {\"distance\": 39.8, \"duration\": 28.7, \"type\": 4, \"instruction\": \"Turn slight left\", \"name\": \"-\", \"way_points\": [51, 53]}, {\"distance\": 32.8, \"duration\": 23.6, \"type\": 0, \"instruction\": \"Turn left\", \"name\": \"-\", \"way_points\": [53, 55]}, {\"distance\": 1149.4, \"duration\": 827.6, \"type\": 1, \"instruction\": \"Turn right onto Werderplatz\", \"name\": \"Werderplatz\", \"way_points\": [55, 84]}, {\"distance\": 54.6, \"duration\": 39.3, \"type\": 12, \"instruction\": \"Keep left onto M\\u00fchlingstra\\u00dfe\", \"name\": \"M\\u00fchlingstra\\u00dfe\", \"way_points\": [84, 86]}, {\"distance\": 1293.9, \"duration\": 931.6, \"type\": 1, \"instruction\": \"Turn right onto Wiesenweg\", \"name\": \"Wiesenweg\", \"way_points\": [86, 101]}, {\"distance\": 6.8, \"duration\": 4.9, \"type\": 0, \"instruction\": \"Turn left\", \"name\": \"-\", \"way_points\": [101, 102]}, {\"distance\": 24.1, \"duration\": 17.4, \"type\": 1, \"instruction\": \"Turn right\", \"name\": \"-\", \"way_points\": [102, 105]}, {\"distance\": 126.1, \"duration\": 90.8, \"type\": 2, \"instruction\": \"Turn sharp left onto In den D\\u00fcrre\\u00e4ckern\", \"name\": \"In den D\\u00fcrre\\u00e4ckern\", \"way_points\": [105, 112]}, {\"distance\": 87.3, \"duration\": 62.9, \"type\": 5, \"instruction\": \"Turn slight right onto In den D\\u00fcrre\\u00e4ckern\", \"name\": \"In den D\\u00fcrre\\u00e4ckern\", \"way_points\": [112, 118]}, {\"distance\": 317.1, \"duration\": 228.3, \"type\": 13, \"instruction\": \"Keep right onto Am Sportplatz\", \"name\": \"Am Sportplatz\", \"way_points\": [118, 126]}, {\"distance\": 0.0, \"duration\": 0.0, \"type\": 10, \"instruction\": \"Arrive at Am Sportplatz, on the right\", \"name\": \"-\", \"way_points\": [126, 126]}]}], \"bbox\": [8.668448, 49.409295, 8.694056, 49.444583], \"geometry\": \"cgqlH{`at@MBkAFK?EDEHYX]JIn@ALcEhASCGBO@UJ@T@J?H@F@J@PCAGAGAG?_IrA?nAMR@RM??J?HALODkARIDeBRm@TiBv@@dBoCEB|BHtJ{Hx@}ALwBTuEd@UB_BN@X}@LGH}@HBr@Bd@y@HcCnAqCpAgC~AOJMFi@Z_@Ri@XQHqBhB]XeBbBgCxBIFEDEBEDIHQNgA|@}AnA{CdCi@b@o@Zm@TOFsCbAuD`Ag@fBIXsHdAaAN_A^uEzAc@LeBl@e@P}E~C}KtLyAbBgC`CwAhAgB`CwAfAoBrADNQHQHCC?XGRg@`Ag@`AMVQ`AALKHq@V[t@CVDZCNy@^sDbB_DfAY@KEGCs@iAWa@\", \"way_points\": [0, 0, 125]}]}))\n",
       "        });</script>\n",
       "        "
      ],
      "text/plain": [
       "<IPython.core.display.HTML object>"
      ]
     },
     "metadata": {},
     "output_type": "display_data"
    }
   ],
   "source": [
    "import openrouteservice as ors\n",
    "import uuid\n",
    "from IPython.core.display import display, HTML\n",
    "\n",
    "import json\n",
    "\n",
    "class RenderJSON(object):\n",
    "    def __init__(self, json_data):\n",
    "        if isinstance(json_data, dict):\n",
    "            self.json_str = json.dumps(json_data)\n",
    "        else:\n",
    "            self.json_str = json_data\n",
    "        self.uuid = str(uuid.uuid4())\n",
    "        # This line is missed out in most of the versions of this script across the web, it is essential for this to work interleaved with print statements\n",
    "        # self._ipython_display_()\n",
    "        \n",
    "    def _ipython_display_(self):\n",
    "        display(HTML('<div id=\"{}\" style=\"height: auto; width:100%;\"></div>'.format(self.uuid)))\n",
    "        display(HTML(\"\"\"<script>\n",
    "        require([\"https://rawgit.com/caldwell/renderjson/master/renderjson.js\"], function() {\n",
    "          renderjson.set_show_to_level(1)\n",
    "          document.getElementById('%s').appendChild(renderjson(%s))\n",
    "        });</script>\n",
    "        \"\"\" % (self.uuid, self.json_str)))\n",
    "\n",
    "body = {\n",
    "   \"coordinates\":[[8.682697,49.414491],[8.700614,49.416529],[8.709508,49.415245],[8.706343,49.40957]],\"extra_info\":[\"waytype\",\"steepness\"],\"skip_segments\":[2]\n",
    "}\n",
    "\n",
    "body_695 = {\"coordinates\":[[8.694724,49.409358],[8.694724,49.409358],[8.669243,49.444468]]}\n",
    "\n",
    "host = \"http://localhost:8082/ors\"\n",
    "#host = \"http://api.openrouteservice.org\"\n",
    "key = \"5b3ce3597851110001cf6248554c879acee241f6bc733402d2d351be\"\n",
    "profile = \"driving-car\"\n",
    "profile_695 = \"foot-walking\"\n",
    "formats = \"geojson\"\n",
    "\n",
    "# set up client\n",
    "client = ors.Client(base_url=host, key = key)\n",
    "resp = client.request(url = f'/v2/directions/{profile}', requests_kwargs = {\"timeout\":None}, get_params={}, post_json = body)\n",
    "\n",
    "resp_695 = client.request(url = f'/v2/directions/{profile_695}', get_params = {}, post_json = body_695)\n",
    "\n",
    "RenderJSON(resp_695)"
   ]
  },
  {
   "cell_type": "code",
   "execution_count": null,
   "id": "mysterious-glenn",
   "metadata": {},
   "outputs": [],
   "source": []
  },
  {
   "cell_type": "code",
   "execution_count": null,
   "id": "helpful-planning",
   "metadata": {},
   "outputs": [],
   "source": []
  }
 ],
 "metadata": {
  "kernelspec": {
   "display_name": "Python 3",
   "language": "python",
   "name": "python3"
  },
  "language_info": {
   "codemirror_mode": {
    "name": "ipython",
    "version": 3
   },
   "file_extension": ".py",
   "mimetype": "text/x-python",
   "name": "python",
   "nbconvert_exporter": "python",
   "pygments_lexer": "ipython3",
   "version": "3.9.2"
  }
 },
 "nbformat": 4,
 "nbformat_minor": 5
}
