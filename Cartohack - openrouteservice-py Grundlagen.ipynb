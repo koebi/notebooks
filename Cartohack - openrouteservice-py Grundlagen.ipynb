{
 "cells": [
  {
   "cell_type": "markdown",
   "metadata": {},
   "source": [
    "### Imports und Client"
   ]
  },
  {
   "cell_type": "code",
   "execution_count": 29,
   "metadata": {},
   "outputs": [],
   "source": [
    "import openrouteservice as ors\n",
    "import folium\n",
    "\n",
    "client = ors.Client(key='5b3ce3597851110001cf6248d2f185cd80644b67a7ca91371d7b6419')\n",
    "\n",
    "# !!! ORS nutzt [lon, lat], folium nutzt [lat, lon] !!!\n",
    "m = folium.Map(location=[52.521861, 13.40744], zoom_start=13)"
   ]
  },
  {
   "cell_type": "markdown",
   "metadata": {},
   "source": [
    "### directions"
   ]
  },
  {
   "cell_type": "code",
   "execution_count": null,
   "metadata": {
    "scrolled": true
   },
   "outputs": [],
   "source": [
    "# …irgendwo in Berlin\n",
    "coordinates = [[13.42731, 52.51088], [13.384116, 52.533558]]\n",
    "\n",
    "route = client.directions(\n",
    "    coordinates=coordinates,\n",
    "    profile='foot-walking',\n",
    "    format='geojson',\n",
    "    options={\"avoid_features\": [\"steps\"]},\n",
    ")\n",
    "\n",
    "folium.PolyLine(locations=[list(reversed(coord)) \n",
    "                           for coord in \n",
    "                           route['features'][0]['geometry']['coordinates']]).add_to(m) \n",
    "\n",
    "folium.Marker(location = list(reversed(coordinates[0])), icon=folium.Icon(color='green'), tooltip=\"Start\").add_to(m)\n",
    "folium.Marker(location = list(reversed(coordinates[1])), popup=folium.Popup(\"End\")).add_to(m)\n",
    "\n",
    "m"
   ]
  },
  {
   "cell_type": "markdown",
   "metadata": {},
   "source": [
    "## Isochrones"
   ]
  },
  {
   "cell_type": "code",
   "execution_count": null,
   "metadata": {},
   "outputs": [],
   "source": [
    "coordinate = [[13.384116, 52.533558]]\n",
    "\n",
    "iso = client.isochrones(\n",
    "    locations=coordinate,\n",
    "    profile='foot-walking',\n",
    "    range=[600, 1200],\n",
    "    validate=False,\n",
    "    attributes=['total_pop']\n",
    ")\n",
    "\n",
    "# Polygone werden in der angegebenen Reihenfolge übereinander gezeichnet, daher starten wir mit dem \"größten\"\n",
    "for isochrone in reversed(iso['features']):\n",
    "    folium.Polygon(locations=[list(reversed(coord)) for coord in isochrone['geometry']['coordinates'][0]],\n",
    "                  fill='00ff00',\n",
    "                  popup=folium.Popup(\"Population: {} people\".format(isochrone['properties']['total_pop'])),\n",
    "                  opacity=0.5).add_to(m)\n",
    "    \n",
    "m"
   ]
  },
  {
   "cell_type": "markdown",
   "metadata": {},
   "source": [
    "## Matrix"
   ]
  },
  {
   "cell_type": "code",
   "execution_count": null,
   "metadata": {},
   "outputs": [],
   "source": [
    "m = folium.Map(location=[52.521861, 13.40744], zoom_start=13)\n",
    "\n",
    "coordinates = [[13.384116, 52.533558], [13.428726, 52.519355], [13.41774, 52.498929], [13.374825, 52.496369]]\n",
    "\n",
    "matrix = client.distance_matrix(\n",
    "    locations=coordinates,\n",
    "    profile='foot-walking',\n",
    "    metrics=['distance', 'duration'],\n",
    ")\n",
    "\n",
    "for marker in coordinates:\n",
    "    folium.Marker(location=list(reversed(marker))).add_to(m)\n",
    "    for other_marker in coordinates:\n",
    "        if marker == other_marker:\n",
    "            continue\n",
    "        folium.PolyLine(\n",
    "            locations = [list(reversed(marker)), list(reversed(other_marker))],\n",
    "            tooltip=matrix['durations'][coordinates.index(marker)][coordinates.index(other_marker)]).add_to(m)\n",
    "\n",
    "print(\"Durations in secs: {}\\n\".format(matrix['durations']))\n",
    "print(\"Distances in m: {}\".format(matrix['distances']))\n",
    "\n",
    "m"
   ]
  },
  {
   "cell_type": "markdown",
   "metadata": {},
   "source": [
    "### Forward Geocoding"
   ]
  },
  {
   "cell_type": "code",
   "execution_count": null,
   "metadata": {},
   "outputs": [],
   "source": [
    "m = folium.Map(location=[52.521861, 13.40744], zoom_start=13)\n",
    "\n",
    "address = \"Mollstraße 1, Berlin\"\n",
    "\n",
    "geocode = client.pelias_search(\n",
    "    text=address,\n",
    "    focus_point=list(reversed(m.location)),\n",
    "    validate=False,\n",
    ")\n",
    "\n",
    "for result in geocode['features']:\n",
    "    folium.Marker(\n",
    "        location=list(reversed(result['geometry']['coordinates'])),\n",
    "        icon=folium.Icon(icon='compass', color='green', prefix='fa'),\n",
    "        popup=folium.Popup(result['properties']['name'])\n",
    "    ).add_to(m)\n",
    "\n",
    "m"
   ]
  },
  {
   "cell_type": "markdown",
   "metadata": {},
   "source": [
    "### Reverse Geocoding"
   ]
  },
  {
   "cell_type": "code",
   "execution_count": null,
   "metadata": {},
   "outputs": [],
   "source": [
    "m = folium.Map(location=[52.521861, 13.40744], zoom_start=13)\n",
    "\n",
    "coordinate = [13.413448, 52.490993]\n",
    "\n",
    "reverse = client.pelias_reverse(\n",
    "    point=coordinate,\n",
    "    validate=False,\n",
    ")\n",
    "\n",
    "for result in reverse['features']:\n",
    "    folium.Marker(\n",
    "        location=list(reversed(result['geometry']['coordinates'])),\n",
    "        icon=folium.Icon(icon='history', color='green', prefix='fa'),\n",
    "        popup=folium.Popup(result['properties']['label'])\n",
    "    ).add_to(m)\n",
    "\n",
    "m"
   ]
  }
 ],
 "metadata": {
  "kernelspec": {
   "display_name": "Python 3",
   "language": "python",
   "name": "python3"
  },
  "language_info": {
   "codemirror_mode": {
    "name": "ipython",
    "version": 3
   },
   "file_extension": ".py",
   "mimetype": "text/x-python",
   "name": "python",
   "nbconvert_exporter": "python",
   "pygments_lexer": "ipython3",
   "version": "3.9.2"
  }
 },
 "nbformat": 4,
 "nbformat_minor": 1
}
