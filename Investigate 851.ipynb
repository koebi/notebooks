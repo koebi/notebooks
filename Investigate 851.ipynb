{
 "cells": [
  {
   "cell_type": "code",
   "execution_count": 27,
   "id": "bulgarian-storage",
   "metadata": {},
   "outputs": [
    {
     "name": "stdout",
     "output_type": "stream",
     "text": [
      "[49.420131, 8.685036] [49.442794, 8.668814]\n",
      "{'bbox': [8.664974, 49.420118, 8.686212, 49.443169], 'metadata': {'attribution': 'openrouteservice.org, OpenStreetMap contributors', 'service': 'routing', 'timestamp': 1614006983336, 'query': {'coordinates': [[8.685036, 49.420131], [8.668814, 49.442794]], 'profile': 'driving-hgv', 'preference': 'shortest', 'format': 'json', 'units': 'km', 'language': 'de', 'instructions': True, 'options': {'avoid_features': [], 'avoid_borders': 'none', 'avoid_countries': [], 'profile_params': {'restrictions': {'length': 0.0, 'width': 0.0, 'height': 0.0, 'axleload': 3.0, 'weight': 32.0}}}}, 'engine': {'version': '6.3.6', 'build_date': '2021-02-22T13:20:07Z', 'graph_date': '2021-02-22T13:17:10Z'}}, 'routes': [{'summary': {'distance': 3.597, 'duration': 606.0}, 'bbox': [8.664974, 49.420118, 8.686212, 49.443169]}]}\n"
     ]
    }
   ],
   "source": [
    "import openrouteservice as ors\n",
    "import folium\n",
    "\n",
    "their_start = [6.791700,51.999200]\n",
    "their_middle = [7.19515, 52.541869]\n",
    "their_end = [6.791700,53.109200]\n",
    "             \n",
    "start=[8.685036,49.420131]\n",
    "middle = [8.682365, 49.434244]\n",
    "end = [8.668814,49.442794]\n",
    "             \n",
    "print(list(reversed(start)), list(reversed(end)))\n",
    "     \n",
    "body = {\n",
    "   \"preference\":\"shortest\",\n",
    "   \"units\":\"km\",\n",
    "   \"language\":\"de\",\n",
    "   \"geometry\":\"false\",\n",
    "   \"instructions\":\"true\",\n",
    "   \"coordinates\":[\n",
    "      start, end\n",
    "   ],\n",
    "   \"options\":{\n",
    "      \"avoid_countries\":[\n",
    "         \n",
    "      ],\n",
    "      \"avoid_borders\":\"none\",\n",
    "      \"avoid_features\":[\n",
    "         \n",
    "      ],\n",
    "      \"profile_params\":{\n",
    "         \"restrictions\":{\n",
    "            \"width\":0.0,\n",
    "            \"height\":0.0,\n",
    "            \"weight\":32.0,\n",
    "            \"length\":0.0,\n",
    "            \"axleload\":3,\n",
    "            \"hazmat\":False\n",
    "         }\n",
    "      }\n",
    "   }\n",
    "}\n",
    "\n",
    "\n",
    "coords = [start, end]\n",
    "host = \"http://localhost:8082/ors\"\n",
    "#host = \"http://api.openrouteservice.org\"\n",
    "key = \"5b3ce3597851110001cf6248554c879acee241f6bc733402d2d351be\"\n",
    "profile = \"driving-hgv\"\n",
    "formats = \"geojson\"\n",
    "pref = \"fastest\"\n",
    "\n",
    "# set up client\n",
    "client = ors.Client(base_url=host, key = key)\n",
    "resp = client.request(url = f'/v2/directions/{profile}', requests_kwargs = {\"timeout\":None}, get_params={}, post_json = body)\n",
    "\n",
    "print(resp)\n"
   ]
  },
  {
   "cell_type": "code",
   "execution_count": null,
   "id": "mysterious-glenn",
   "metadata": {},
   "outputs": [],
   "source": []
  },
  {
   "cell_type": "code",
   "execution_count": null,
   "id": "helpful-planning",
   "metadata": {},
   "outputs": [],
   "source": []
  }
 ],
 "metadata": {
  "kernelspec": {
   "display_name": "Python 3",
   "language": "python",
   "name": "python3"
  },
  "language_info": {
   "codemirror_mode": {
    "name": "ipython",
    "version": 3
   },
   "file_extension": ".py",
   "mimetype": "text/x-python",
   "name": "python",
   "nbconvert_exporter": "python",
   "pygments_lexer": "ipython3",
   "version": "3.9.1+"
  }
 },
 "nbformat": 4,
 "nbformat_minor": 5
}
