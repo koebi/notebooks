{
 "cells": [
  {
   "cell_type": "code",
   "execution_count": 23,
   "metadata": {},
   "outputs": [
    {
     "name": "stdout",
     "output_type": "stream",
     "text": [
      "120\n",
      "2158\n"
     ]
    }
   ],
   "source": [
    "import matplotlib\n",
    "\n",
    "\n",
    "import openrouteservice as ors\n",
    "\n",
    "# request centrality from ors\n",
    "host = \"http://localhost:8082/ors\"\n",
    "profile = \"driving-car\"\n",
    "neuenheim = [[8.677139,49.412872],[8.690443,49.421080]]\n",
    "# heidelberg = [[8.6409461498,49.3702043981],[8.7175071239,49.4334314892]]\n",
    "heidelberg = [[8.655705, 49.395446],[8.718184, 49.434366]]\n",
    "\n",
    "client = ors.Client(base_url=host, key='5b3ce3597851110001cf6248554c879acee241f6bc733402d2d351be')\n",
    "resp = client.request(url = f'/v2/centrality/{profile}/json', get_params = {}, post_json = {'bbox': neuenheim})\n",
    "\n",
    "scores = resp['centralityScores']\n",
    "print(len(scores))\n",
    "\n",
    "hd_resp = client.request(url = f'/v2/centrality/{profile}/json', get_params = {}, requests_kwargs = {\"timeout\":None}, post_json = {'bbox': heidelberg})\n",
    "\n",
    "hd_scores = hd_resp['centralityScores']\n",
    "print(len(hd_scores))\n"
   ]
  },
  {
   "cell_type": "code",
   "execution_count": 19,
   "metadata": {},
   "outputs": [
    {
     "data": {
      "text/plain": [
       "(array([1898.,  152.,   61.,   33.,   14.]),\n",
       " array([      0. ,  237616.4,  475232.8,  712849.2,  950465.6, 1188082. ]),\n",
       " <BarContainer object of 5 artists>)"
      ]
     },
     "execution_count": 19,
     "metadata": {},
     "output_type": "execute_result"
    },
    {
     "data": {
      "image/png": "[encoded data removed]",
      "text/plain": [
       "<Figure size 432x288 with 1 Axes>"
      ]
     },
     "metadata": {
      "needs_background": "light"
     },
     "output_type": "display_data"
    }
   ],
   "source": [
    "import matplotlib.pyplot as plt\n",
    "\n",
    "plt.hist(scores)\n",
    "plt.hist(hd_scores, bins=5)\n"
   ]
  },
  {
   "cell_type": "code",
   "execution_count": null,
   "metadata": {},
   "outputs": [],
   "source": []
  },
  {
   "cell_type": "code",
   "execution_count": null,
   "metadata": {},
   "outputs": [],
   "source": []
  }
 ],
 "metadata": {
  "kernelspec": {
   "display_name": "Python 3",
   "language": "python",
   "name": "python3"
  },
  "language_info": {
   "codemirror_mode": {
    "name": "ipython",
    "version": 3
   },
   "file_extension": ".py",
   "mimetype": "text/x-python",
   "name": "python",
   "nbconvert_exporter": "python",
   "pygments_lexer": "ipython3",
   "version": "3.9.1+"
  }
 },
 "nbformat": 4,
 "nbformat_minor": 4
}
