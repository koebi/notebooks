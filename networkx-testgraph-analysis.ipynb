{
 "cells": [
  {
   "cell_type": "code",
   "execution_count": 8,
   "metadata": {},
   "outputs": [
    {
     "name": "stdout",
     "output_type": "stream",
     "text": [
      "{0: 0.15476190476190474, 1: 0.0, 2: 0.244047619047619, 3: 0.244047619047619, 8: 0.18452380952380948, 4: 0.2797619047619047, 5: 0.10714285714285714, 6: 0.0, 7: 0.18452380952380948}\n",
      "{0: 4.333333333333333, 1: 0.0, 2: 6.833333333333333, 3: 6.833333333333333, 8: 5.166666666666666, 4: 7.833333333333333, 5: 3.0, 6: 0.0, 7: 5.166666666666666}\n",
      "{0: 4.333333333333333, 1: 0.0, 2: 6.833333333333332, 3: 6.833333333333332, 8: 5.166666666666665, 4: 7.833333333333332, 5: 3.0, 6: 0.0, 7: 5.166666666666665}\n"
     ]
    }
   ],
   "source": [
    "import networkx as nx\n",
    "\n",
    "g = nx.Graph()\n",
    "g.add_edge(0, 1, weight=1)\n",
    "g.add_edge(0, 2, weight=1)\n",
    "g.add_edge(0, 3, weight=5)\n",
    "g.add_edge(0, 8, weight=1)\n",
    "g.add_edge(1, 2, weight=1)\n",
    "g.add_edge(1, 8, weight=2)\n",
    "g.add_edge(2, 3, weight=2)\n",
    "g.add_edge(3, 4, weight=2)\n",
    "g.add_edge(4, 5, weight=1)\n",
    "g.add_edge(4, 6, weight=1)\n",
    "g.add_edge(5, 7, weight=1)\n",
    "g.add_edge(6, 7, weight=2)\n",
    "g.add_edge(7, 8, weight=3)\n",
    "\n",
    "betweenness = nx.algorithms.centrality.betweenness.betweenness_centrality(g, weight=\"weight\")\n",
    "print(betweenness)\n",
    "betweenness2 = nx.algorithms.centrality.betweenness.betweenness_centrality(g, normalized=False, weight=\"weight\")\n",
    "print(betweenness2)\n",
    "\n",
    "#de-normalize:\n",
    "n = len(g.nodes)\n",
    "for k in betweenness:\n",
    "    betweenness[k] *= (n-1)*(n-2)*0.5\n",
    "\n",
    "print(betweenness)"
   ]
  },
  {
   "cell_type": "code",
   "execution_count": null,
   "metadata": {},
   "outputs": [],
   "source": []
  }
 ],
 "metadata": {
  "kernelspec": {
   "display_name": "Python 3",
   "language": "python",
   "name": "python3"
  },
  "language_info": {
   "codemirror_mode": {
    "name": "ipython",
    "version": 3
   },
   "file_extension": ".py",
   "mimetype": "text/x-python",
   "name": "python",
   "nbconvert_exporter": "python",
   "pygments_lexer": "ipython3",
   "version": "3.8.5"
  }
 },
 "nbformat": 4,
 "nbformat_minor": 4
}
